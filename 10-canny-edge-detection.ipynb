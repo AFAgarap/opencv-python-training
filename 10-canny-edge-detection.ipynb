{
 "cells": [
  {
   "cell_type": "markdown",
   "metadata": {},
   "source": [
    "Canny Edge Detection\n",
    "===\n",
    "\n",
    "The steps of Canny Edge Detection algorithm are as follows\n",
    "\n",
    "**Noise Reduction.** Edge detection is susceptible to noise in an image, the first step is noise removal in an image (e.g. using Gaussian filter).\n",
    "\n",
    "**Finding Intensity Gradient of an image.** Smoothened image is then filtered with a Sobel kernel in both horizontal and vertical direction. From the two images, we can find the edge gradient and the direction for each pixel as follows\n",
    "\n",
    "$$ Edge\\_Gradient(G) = \\sqrt{G^{2}_{x} + G^{2}_{y}} \\\\\n",
    "Angle(\\theta) = tan^{-1} \\Bigg(\\dfrac{G_{y}}{G_{x}}\\Bigg)\n",
    "$$\n",
    "\n",
    "Gradient direction is always perpendicular to edges. It is rounded to one of four angles representing vertical, horizontal, and two diagonal directions.\n",
    "\n",
    "**Non-maximum Suppression.** After getting gradient magnitude and direction, pixels that do not constitute an edge are removed. For this, every pixel is checked if it is a local maximum in its neighborhood in the direction of the gradient.\n",
    "\n",
    "**Hysteresis Thresholding.** The algorithm decides which are all edges and which are not. For this, we need two threshold values, `minVal` and `maxVal`. Any edges with intensity gradient more than `maxVal` are sure to be edges, and those below `minVal` are not, hence they are discarded. Those that lie between the thresholds are classified as edges or non-edges based on their connectivity. If they are conneccted to \"sure-edge\" pixels, they are considered a part of the edge. Otherwise, they are discarded."
   ]
  },
  {
   "cell_type": "markdown",
   "metadata": {},
   "source": [
    "Instead of coding the steps above, OpenCV has graciously provided us with a single function that does all the steps described above. The function is `cv2.Canny()`.\n",
    "\n",
    "The arguments for this function are as follows\n",
    "\n",
    "1. Input image `src`\n",
    "2-3. `minVal` and `maxVal` respectively\n",
    "\n",
    "By default, `cv2.Canny()` uses L1-norm for getting the $Edge\\_Gradient(G)$."
   ]
  },
  {
   "cell_type": "code",
   "execution_count": 1,
   "metadata": {},
   "outputs": [],
   "source": [
    "import cv2\n",
    "import numpy as np\n",
    "\n",
    "image = cv2.imread('figures/death-star.jpg', 0)\n",
    "\n",
    "edges = cv2.Canny(image, 100, 200)\n",
    "\n",
    "cv2.imshow('original_image', image)\n",
    "cv2.imshow('edges', edges)\n",
    "cv2.waitKey(0)\n",
    "cv2.destroyAllWindows()"
   ]
  },
  {
   "cell_type": "code",
   "execution_count": 2,
   "metadata": {},
   "outputs": [],
   "source": [
    "image = cv2.imread('figures/darth.JPG', 0)\n",
    "\n",
    "edges = cv2.Canny(image, 100, 200, True)\n",
    "\n",
    "cv2.imshow('edges', edges)\n",
    "cv2.waitKey(0)\n",
    "cv2.destroyAllWindows()"
   ]
  },
  {
   "cell_type": "markdown",
   "metadata": {},
   "source": [
    "## Exercise\n",
    "\n",
    "Detect the edges in a video."
   ]
  },
  {
   "cell_type": "code",
   "execution_count": 3,
   "metadata": {},
   "outputs": [],
   "source": [
    "cap = cv2.VideoCapture(0)\n",
    "\n",
    "while True:\n",
    "    \n",
    "    _, frame = cap.read()\n",
    "    \n",
    "    gray = cv2.cvtColor(frame, cv2.COLOR_BGR2GRAY)\n",
    "    \n",
    "    edges = cv2.Canny(gray, 100, 200)\n",
    "    \n",
    "    cv2.imshow('frame', gray)\n",
    "    cv2.imshow('edges', edges)\n",
    "    \n",
    "    if cv2.waitKey(1) == 27:\n",
    "        break\n",
    "        \n",
    "cap.release()\n",
    "cv2.destroyAllWindows()"
   ]
  }
 ],
 "metadata": {
  "kernelspec": {
   "display_name": "Python 3",
   "language": "python",
   "name": "python3"
  },
  "language_info": {
   "codemirror_mode": {
    "name": "ipython",
    "version": 3
   },
   "file_extension": ".py",
   "mimetype": "text/x-python",
   "name": "python",
   "nbconvert_exporter": "python",
   "pygments_lexer": "ipython3",
   "version": "3.6.2"
  }
 },
 "nbformat": 4,
 "nbformat_minor": 2
}
