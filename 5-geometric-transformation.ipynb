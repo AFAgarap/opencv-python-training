{
 "cells": [
  {
   "cell_type": "markdown",
   "metadata": {},
   "source": [
    "Geometric Transformation\n",
    "==="
   ]
  },
  {
   "cell_type": "markdown",
   "metadata": {},
   "source": [
    "## Scaling\n",
    "\n",
    "Scaling is just resizing an image. We use `cv2.resize()` for this operation. The size of the image may be manually specified, or we may specify the scaling factor."
   ]
  },
  {
   "cell_type": "code",
   "execution_count": 1,
   "metadata": {},
   "outputs": [],
   "source": [
    "import cv2\n",
    "import numpy as np"
   ]
  },
  {
   "cell_type": "code",
   "execution_count": 2,
   "metadata": {},
   "outputs": [],
   "source": [
    "image = cv2.imread('figures/darth.JPG')\n",
    "\n",
    "resized = cv2.resize(image, None, fx=0.5, fy=0.5, interpolation=cv2.INTER_CUBIC)\n",
    "\n",
    "cv2.imshow('image', image)\n",
    "cv2.imshow('resized', resized)\n",
    "cv2.waitKey(0)\n",
    "cv2.destroyAllWindows()"
   ]
  },
  {
   "cell_type": "markdown",
   "metadata": {},
   "source": [
    "## Translation\n",
    "\n",
    "This is just the shifting of an object's location. Given a shift $(t_x, t_y)$, we can create a transformation matrix $M$ as follows\n",
    "\n",
    "$$ M = \\begin{bmatrix}\n",
    "1 & 0 & t_{x}\\\\\n",
    "0 & 1 & t_{y}\\\\\n",
    "\\end{bmatrix}$$"
   ]
  },
  {
   "cell_type": "code",
   "execution_count": 3,
   "metadata": {},
   "outputs": [],
   "source": [
    "image = cv2.imread('figures/darth.JPG', 0)\n",
    "image = cv2.resize(image, None, fx=0.5, fy=0.5, interpolation=cv2.INTER_CUBIC)\n",
    "\n",
    "rows, cols = image.shape\n",
    "\n",
    "M = np.float32([[1, 0, 100], [0, 1, 50]])\n",
    "\n",
    "# (width, height)\n",
    "translated = cv2.warpAffine(image, M, (cols, rows))\n",
    "\n",
    "cv2.imshow('translated', translated)\n",
    "cv2.waitKey(0)\n",
    "cv2.destroyAllWindows()"
   ]
  },
  {
   "cell_type": "markdown",
   "metadata": {},
   "source": [
    "## Rotation\n",
    "\n",
    "Rotation of an image by angle $\\theta$ is achieved by the transformation matrix of the form\n",
    "\n",
    "$$ \\begin{bmatrix}\n",
    "cos\\theta & -sin\\theta \\\\\n",
    "sin\\theta & cos\\theta \\\\\n",
    "\\end{bmatrix}$$"
   ]
  },
  {
   "cell_type": "markdown",
   "metadata": {},
   "source": [
    "However, OpenCV provides scaled rotation with adjustable center of rotation so we can rotate at any location we prefer. Modified transformation matrix is given by\n",
    "\n",
    "$$ \\begin{bmatrix}\n",
    "\\alpha & \\beta & (1 - \\alpha) \\cdot center.x - \\beta \\cdot center.y\\\\\n",
    "-\\beta & \\alpha & \\beta \\cdot center.x + (1 - \\alpha) \\cdot center.y\\\\\n",
    "\\end{bmatrix}$$\n",
    "\n",
    "where\n",
    "\n",
    "$$\n",
    "\\alpha = scale \\cdot cos\\theta,\\\\\n",
    "\\beta = scale \\cdot sin\\theta\n",
    "$$"
   ]
  },
  {
   "cell_type": "code",
   "execution_count": 4,
   "metadata": {},
   "outputs": [],
   "source": [
    "image = cv2.imread('figures/darth.JPG', 0)\n",
    "image = cv2.resize(image, None, fx=0.5, fy=0.5, interpolation=cv2.INTER_CUBIC)\n",
    "\n",
    "rows, cols = image.shape\n",
    "\n",
    "M = cv2.getRotationMatrix2D((cols / 2, rows / 2), 90, 1)\n",
    "\n",
    "# (width, height)\n",
    "rotated = cv2.warpAffine(image, M, (cols, rows))\n",
    "\n",
    "cv2.imshow('rotated', rotated)\n",
    "cv2.waitKey(0)\n",
    "cv2.destroyAllWindows()"
   ]
  }
 ],
 "metadata": {
  "kernelspec": {
   "display_name": "Python 3",
   "language": "python",
   "name": "python3"
  },
  "language_info": {
   "codemirror_mode": {
    "name": "ipython",
    "version": 3
   },
   "file_extension": ".py",
   "mimetype": "text/x-python",
   "name": "python",
   "nbconvert_exporter": "python",
   "pygments_lexer": "ipython3",
   "version": "3.6.2"
  }
 },
 "nbformat": 4,
 "nbformat_minor": 2
}
