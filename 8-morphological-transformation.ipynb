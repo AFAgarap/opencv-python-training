{
 "cells": [
  {
   "cell_type": "markdown",
   "metadata": {},
   "source": [
    "Morphological Transformation\n",
    "==="
   ]
  },
  {
   "cell_type": "markdown",
   "metadata": {},
   "source": [
    "## Erosion\n",
    "\n",
    "Basically, it erodes away the boundaries of foreground object. We deal with image having a white foreground here. What it does is have a kernel slide through an image (similar to 2D convolution). A pixel in the original image will be considered 1 only if all the pixels under the kernel is 1, it is eroded otherwise (converted to 0)."
   ]
  },
  {
   "cell_type": "markdown",
   "metadata": {},
   "source": [
    "Let's try to improve the `figures/bookpage.jpg` thresholding in **Image Thresholding** session."
   ]
  },
  {
   "cell_type": "code",
   "execution_count": 1,
   "metadata": {},
   "outputs": [],
   "source": [
    "import cv2\n",
    "import numpy as np"
   ]
  },
  {
   "cell_type": "markdown",
   "metadata": {},
   "source": [
    "Let's load the `figures/bookpage.jpg` image as our sample data."
   ]
  },
  {
   "cell_type": "code",
   "execution_count": 2,
   "metadata": {},
   "outputs": [],
   "source": [
    "bookread = cv2.imread('figures/bookpage.jpg')"
   ]
  },
  {
   "cell_type": "markdown",
   "metadata": {},
   "source": [
    "Convert the image to grayscale."
   ]
  },
  {
   "cell_type": "code",
   "execution_count": 3,
   "metadata": {},
   "outputs": [],
   "source": [
    "grayscaled = cv2.cvtColor(bookread, cv2.COLOR_BGR2GRAY)"
   ]
  },
  {
   "cell_type": "markdown",
   "metadata": {},
   "source": [
    "Perform adaptive threshold to get the \"clearer\" version of the `bookread` image."
   ]
  },
  {
   "cell_type": "code",
   "execution_count": 4,
   "metadata": {},
   "outputs": [],
   "source": [
    "gauss = cv2.adaptiveThreshold(grayscaled, 255, cv2.ADAPTIVE_THRESH_GAUSSIAN_C, cv2.THRESH_BINARY, 115, 1)"
   ]
  },
  {
   "cell_type": "markdown",
   "metadata": {},
   "source": [
    "Since erosion deals with binary images only, with the foreground being white; background being black, we have to get the inverse mask of our image."
   ]
  },
  {
   "cell_type": "code",
   "execution_count": 5,
   "metadata": {},
   "outputs": [],
   "source": [
    "gauss_inv = cv2.bitwise_not(gauss)"
   ]
  },
  {
   "cell_type": "markdown",
   "metadata": {},
   "source": [
    "For now, let's take a look at our resulting images."
   ]
  },
  {
   "cell_type": "code",
   "execution_count": 6,
   "metadata": {},
   "outputs": [],
   "source": [
    "cv2.namedWindow('bookread', cv2.WINDOW_NORMAL)\n",
    "cv2.namedWindow('bookread_grayscaled', cv2.WINDOW_NORMAL)\n",
    "cv2.namedWindow('bookread_gauss', cv2.WINDOW_NORMAL)\n",
    "cv2.namedWindow('bookread_gauss_inv', cv2.WINDOW_NORMAL)\n",
    "cv2.imshow('bookread', bookread)\n",
    "cv2.imshow('bookread_grayscaled', grayscaled)\n",
    "cv2.imshow('bookread_gauss', gauss)\n",
    "cv2.imshow('bookread_gauss_inv', gauss_inv)\n",
    "cv2.waitKey(0)\n",
    "cv2.destroyAllWindows()"
   ]
  },
  {
   "cell_type": "markdown",
   "metadata": {},
   "source": [
    "Now that we've seen what `gauss_inv` looks like, we have visually confirmed that it suits our requirement for erosion.\n",
    "\n",
    "As mentioned above, the idea of erosion is to slide a kernel through an image. So, let's create a kernel as our first step."
   ]
  },
  {
   "cell_type": "code",
   "execution_count": 7,
   "metadata": {},
   "outputs": [
    {
     "name": "stdout",
     "output_type": "stream",
     "text": [
      "[[1 1]\n",
      " [1 1]]\n"
     ]
    }
   ],
   "source": [
    "kernel = np.ones((2, 2), np.uint8)\n",
    "print(kernel)"
   ]
  },
  {
   "cell_type": "markdown",
   "metadata": {},
   "source": [
    "Let's get a sample region of interest, then display its values."
   ]
  },
  {
   "cell_type": "code",
   "execution_count": 8,
   "metadata": {},
   "outputs": [
    {
     "name": "stdout",
     "output_type": "stream",
     "text": [
      "[[  0   0   0 255]\n",
      " [255 255   0   0]\n",
      " [255 255   0   0]\n",
      " [255 255   0   0]]\n"
     ]
    }
   ],
   "source": [
    "roi = gauss_inv[0:4, 0:4]\n",
    "print(roi)"
   ]
  },
  {
   "cell_type": "markdown",
   "metadata": {},
   "source": [
    "Let's perform an erosion on our selected ROI."
   ]
  },
  {
   "cell_type": "code",
   "execution_count": 9,
   "metadata": {},
   "outputs": [
    {
     "name": "stdout",
     "output_type": "stream",
     "text": [
      "[[  0   0   0   0]\n",
      " [  0   0   0   0]\n",
      " [255 255   0   0]\n",
      " [255 255   0   0]]\n"
     ]
    }
   ],
   "source": [
    "erosion = cv2.erode(roi, kernel, iterations=1)\n",
    "print(erosion)"
   ]
  },
  {
   "cell_type": "markdown",
   "metadata": {},
   "source": [
    "Seeing how erosion operates, it will \"clean\" the boundaries of a foreground object by getting its minimum values. Let's perform erosion on the entire inverted gaussian-threshold image."
   ]
  },
  {
   "cell_type": "code",
   "execution_count": 10,
   "metadata": {},
   "outputs": [],
   "source": [
    "erosion = cv2.erode(gauss_inv, kernel, iterations=1)"
   ]
  },
  {
   "cell_type": "markdown",
   "metadata": {},
   "source": [
    "Let's convert our image back to having a black foreground and white background by using `cv2.bitwise_not()`."
   ]
  },
  {
   "cell_type": "code",
   "execution_count": 11,
   "metadata": {},
   "outputs": [],
   "source": [
    "erosion = cv2.bitwise_not(erosion)"
   ]
  },
  {
   "cell_type": "markdown",
   "metadata": {},
   "source": [
    "Let's display the original image, the image without erosion, and the one with erosion."
   ]
  },
  {
   "cell_type": "code",
   "execution_count": 12,
   "metadata": {},
   "outputs": [],
   "source": [
    "cv2.imshow('original_image', bookread)\n",
    "cv2.imshow('gaussian', gauss)\n",
    "cv2.imshow('eroded', erosion)\n",
    "cv2.waitKey(0)\n",
    "cv2.destroyAllWindows()"
   ]
  },
  {
   "cell_type": "markdown",
   "metadata": {},
   "source": [
    "## Dilation\n",
    "\n",
    "This is basically the opposite of erosion. Here, a pixel element is '1' if atleast one pixel under the kernel is '1'. In other words, it's getting maximum values of a foreground object instead of getting the minimum values."
   ]
  },
  {
   "cell_type": "code",
   "execution_count": 13,
   "metadata": {},
   "outputs": [],
   "source": [
    "dilation = cv2.dilate(gauss_inv, kernel, iterations=1)"
   ]
  },
  {
   "cell_type": "markdown",
   "metadata": {},
   "source": [
    "Let's convert our image back to having a black foreground and white background by using `cv2.bitwise_not()`."
   ]
  },
  {
   "cell_type": "code",
   "execution_count": 14,
   "metadata": {},
   "outputs": [],
   "source": [
    "dilation = cv2.bitwise_not(dilation)"
   ]
  },
  {
   "cell_type": "markdown",
   "metadata": {},
   "source": [
    "Let's display the original image, the image without erosion, the one with erosion, and the dilated one."
   ]
  },
  {
   "cell_type": "code",
   "execution_count": 15,
   "metadata": {},
   "outputs": [],
   "source": [
    "cv2.imshow('original_image', bookread)\n",
    "cv2.imshow('gaussian', gauss)\n",
    "cv2.imshow('eroded', erosion)\n",
    "cv2.imshow('dilated', dilation)\n",
    "cv2.imshow\n",
    "cv2.waitKey(0)\n",
    "cv2.destroyAllWindows()"
   ]
  },
  {
   "cell_type": "markdown",
   "metadata": {},
   "source": [
    "## Opening\n",
    "\n",
    "This may seem to be an erosion followed by dilation. This is useful for removing noise, and we do so by using `cv2.morphologyEx()`."
   ]
  },
  {
   "cell_type": "code",
   "execution_count": 16,
   "metadata": {},
   "outputs": [],
   "source": [
    "opening = cv2.morphologyEx(gauss_inv, cv2.MORPH_OPEN, kernel)"
   ]
  },
  {
   "cell_type": "markdown",
   "metadata": {},
   "source": [
    "Let's convert our image back to having a black foreground and white background by using `cv2.bitwise_not()`."
   ]
  },
  {
   "cell_type": "code",
   "execution_count": 17,
   "metadata": {},
   "outputs": [],
   "source": [
    "opening = cv2.bitwise_not(opening)"
   ]
  },
  {
   "cell_type": "markdown",
   "metadata": {},
   "source": [
    "Let's display the original image, the image without erosion, the one with erosion, the dilated one, and the opening one."
   ]
  },
  {
   "cell_type": "code",
   "execution_count": 18,
   "metadata": {},
   "outputs": [],
   "source": [
    "cv2.imshow('original_image', bookread)\n",
    "cv2.imshow('gaussian', gauss)\n",
    "cv2.imshow('eroded', erosion)\n",
    "cv2.imshow('dilated', dilation)\n",
    "cv2.imshow('opening', opening)\n",
    "cv2.imshow\n",
    "cv2.waitKey(0)\n",
    "cv2.destroyAllWindows()"
   ]
  },
  {
   "cell_type": "markdown",
   "metadata": {},
   "source": [
    "## Closing\n",
    "\n",
    "This may seem to be an dilation followed by erosion. It is useful for closing small holes within the foreground objects. We also use `cv2.morphologyEx()`."
   ]
  },
  {
   "cell_type": "code",
   "execution_count": 19,
   "metadata": {},
   "outputs": [],
   "source": [
    "closing = cv2.morphologyEx(gauss_inv, cv2.MORPH_CLOSE, kernel)"
   ]
  },
  {
   "cell_type": "markdown",
   "metadata": {},
   "source": [
    "Let's convert our image back to having a black foreground and white background by using `cv2.bitwise_not()`."
   ]
  },
  {
   "cell_type": "code",
   "execution_count": 20,
   "metadata": {},
   "outputs": [],
   "source": [
    "closing = cv2.bitwise_not(closing)"
   ]
  },
  {
   "cell_type": "markdown",
   "metadata": {},
   "source": [
    "Let's display the original image, the image without erosion, the one with erosion, the dilated one, the opening one, and the closing one."
   ]
  },
  {
   "cell_type": "code",
   "execution_count": 21,
   "metadata": {},
   "outputs": [],
   "source": [
    "cv2.imshow('original_image', bookread)\n",
    "cv2.imshow('gaussian', gauss)\n",
    "cv2.imshow('eroded', erosion)\n",
    "cv2.imshow('dilated', dilation)\n",
    "cv2.imshow('opening', opening)\n",
    "cv2.imshow('closing', closing)\n",
    "cv2.imshow\n",
    "cv2.waitKey(0)\n",
    "cv2.destroyAllWindows()"
   ]
  },
  {
   "cell_type": "markdown",
   "metadata": {},
   "source": [
    "## Morphological Gradient\n",
    "\n",
    "The difference between dilation and erosion of an image."
   ]
  },
  {
   "cell_type": "code",
   "execution_count": 22,
   "metadata": {},
   "outputs": [],
   "source": [
    "gradient = cv2.morphologyEx(gauss_inv, cv2.MORPH_GRADIENT, kernel)"
   ]
  },
  {
   "cell_type": "markdown",
   "metadata": {},
   "source": [
    "Let's convert our image back to having a black foreground and white background by using `cv2.bitwise_not()`."
   ]
  },
  {
   "cell_type": "code",
   "execution_count": 23,
   "metadata": {},
   "outputs": [],
   "source": [
    "gradient = cv2.bitwise_not(gradient)"
   ]
  },
  {
   "cell_type": "markdown",
   "metadata": {},
   "source": [
    "Let's display the original image, the image without erosion, the one with erosion, the dilated one, the opening one, the closing one, and the morphological gradient."
   ]
  },
  {
   "cell_type": "code",
   "execution_count": 24,
   "metadata": {},
   "outputs": [],
   "source": [
    "cv2.imshow('original_image', bookread)\n",
    "cv2.imshow('gaussian', gauss)\n",
    "cv2.imshow('eroded', erosion)\n",
    "cv2.imshow('dilated', dilation)\n",
    "cv2.imshow('opening', opening)\n",
    "cv2.imshow('closing', closing)\n",
    "cv2.imshow('morphological_gradient', gradient)\n",
    "cv2.imshow\n",
    "cv2.waitKey(0)\n",
    "cv2.destroyAllWindows()"
   ]
  },
  {
   "cell_type": "markdown",
   "metadata": {},
   "source": [
    "## Exercise\n",
    "\n",
    "Isolate an object based on a color from a video (same with **4-changing-colorspace**), and use morphological transformations to improve the isolated object."
   ]
  },
  {
   "cell_type": "markdown",
   "metadata": {},
   "source": [
    "cap = cv2.VideoCapture(0)\n",
    "\n",
    "while True:\n",
    "    \n",
    "    # take each frame\n",
    "    _, frame = cap.read()\n",
    "    \n",
    "    # convert BGR to HSV\n",
    "    hsv = cv2.cvtColor(frame, cv2.COLOR_BGR2HSV)\n",
    "    \n",
    "    # define the range of blue color in HSV\n",
    "    lower_blue = np.array([110, 50, 50])\n",
    "    upper_blue = np.array([130, 255, 255])\n",
    "    \n",
    "    # threshold the HSV image to get only blue colors\n",
    "    mask = cv2.inRange(hsv, lower_blue, upper_blue)\n",
    "    \n",
    "    # bitwise-and the mask and the original image\n",
    "    res = cv2.bitwise_and(frame, frame, mask=mask)\n",
    "    \n",
    "    kernel = np.ones((5, 5), np.uint8)\n",
    "    erosion = cv2.erode(mask, kernel, iterations=1)\n",
    "    dilation = cv2.dilate(mask, kernel, iterations=1)\n",
    "    opening = cv2.morphologyEx(mask, cv2.MORPH_OPEN, kernel)\n",
    "    closing = cv2.morphologyEx(mask, cv2.MORPH_CLOSE, kernel)\n",
    "    \n",
    "    cv2.imshow('frame', frame)\n",
    "    cv2.imshow('mask', mask)\n",
    "    cv2.imshow('res', res)\n",
    "    cv2.imshow('eroded_mask', erosion)\n",
    "    cv2.imshow('dilated_mask', dilation)\n",
    "    cv2.imshow('opening', opening)\n",
    "    cv2.imshow('closing', closing)\n",
    "    \n",
    "    k = cv2.waitKey(5)\n",
    "    \n",
    "    if k == 27:\n",
    "        break\n",
    "        \n",
    "cv2.destroyAllWindows()"
   ]
  }
 ],
 "metadata": {
  "kernelspec": {
   "display_name": "Python 3",
   "language": "python",
   "name": "python3"
  },
  "language_info": {
   "codemirror_mode": {
    "name": "ipython",
    "version": 3
   },
   "file_extension": ".py",
   "mimetype": "text/x-python",
   "name": "python",
   "nbconvert_exporter": "python",
   "pygments_lexer": "ipython3",
   "version": "3.6.2"
  }
 },
 "nbformat": 4,
 "nbformat_minor": 2
}
