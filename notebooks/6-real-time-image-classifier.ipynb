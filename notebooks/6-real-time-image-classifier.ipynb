{
 "cells": [
  {
   "cell_type": "markdown",
   "metadata": {},
   "source": [
    "Real-time Image Classification using OpenCV + TensorFlow\n",
    "==="
   ]
  },
  {
   "cell_type": "markdown",
   "metadata": {},
   "source": [
    "## Setup\n",
    "\n",
    "Install TensorFlow if you haven't yet.\n",
    "\n",
    "`pip install tensorflow`\n",
    "\n",
    "or if you have a GPU and CUDA installed,\n",
    "\n",
    "`pip install tensorflow-gpu`"
   ]
  },
  {
   "cell_type": "markdown",
   "metadata": {},
   "source": [
    "## Clone Repository\n",
    "\n",
    "Clone the TensorFlow for Poets 2 repository\n",
    "\n",
    "`git clone https://github.com/googlecodelabs/tensorflow-for-poets-2`\n",
    "\n",
    "then go to its directory\n",
    "\n",
    "`cd tensorflow-for-poets-2`"
   ]
  },
  {
   "cell_type": "markdown",
   "metadata": {},
   "source": [
    "## The Dataset\n",
    "\n",
    "Download our sample dataset from [here](Download at https://tinyurl.com/ycbzrbs8).\n",
    "\n",
    "Unzip it to `mobilenet-dataset.zip`, then move it to `tf_files` folder under `tensorflow-for-poets-2`."
   ]
  },
  {
   "cell_type": "markdown",
   "metadata": {},
   "source": [
    "## TensorBoard\n",
    "\n",
    "Run the TensorBoard program to record the retraining of the MobileNet model.\n",
    "\n",
    "`tensorboard --logdir=tf_files/training_summaries`"
   ]
  },
  {
   "cell_type": "markdown",
   "metadata": {},
   "source": [
    "## Retraining MobileNet\n",
    "\n",
    "```\n",
    "# run the training\n",
    "python -m scripts.retrain \\\n",
    "  --bottleneck_dir=tf_files/bottlenecks \\\n",
    "  --how_many_training_steps=500 \\\n",
    "  --model_dir=tf_files/models/ \\\n",
    "  --summaries_dir=tf_files/training_summaries/mobilenet_0.50_224 \\\n",
    "  --output_graph=tf_files/retrained_graph.pb \\\n",
    "  --output_labels=tf_files/retrained_labels.txt \\\n",
    "  --architecture=mobilenet_0.50_224 \\\n",
    "  --image_dir=tf_files/mobilenet-dataset\n",
    "\n",
    "```"
   ]
  },
  {
   "cell_type": "markdown",
   "metadata": {},
   "source": [
    "## Use the Retrained MobileNet\n",
    "\n",
    "Download any new images that belong to the classes we have in our sample dataset. Use it as `<test_image>`. \n",
    "\n",
    "```\n",
    "# retrained mobilenet model\n",
    "python -m scripts.label_image \\\n",
    "    --graph=tf_files/retrained_graph.pb \\\n",
    "    --image=<test_image>\n",
    "```"
   ]
  },
  {
   "cell_type": "markdown",
   "metadata": {},
   "source": [
    "## OpenCV\n",
    "\n",
    "Use the [classifier](https://tinyurl.com/ycgmv4l9) we wrote that uses OpenCV for capturing video frames."
   ]
  }
 ],
 "metadata": {
  "kernelspec": {
   "display_name": "Python 3",
   "language": "python",
   "name": "python3"
  },
  "language_info": {
   "codemirror_mode": {
    "name": "ipython",
    "version": 3
   },
   "file_extension": ".py",
   "mimetype": "text/x-python",
   "name": "python",
   "nbconvert_exporter": "python",
   "pygments_lexer": "ipython3",
   "version": "3.6.5"
  }
 },
 "nbformat": 4,
 "nbformat_minor": 2
}
