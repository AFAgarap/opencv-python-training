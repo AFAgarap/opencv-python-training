{
 "cells": [
  {
   "cell_type": "markdown",
   "metadata": {},
   "source": [
    "Getting Started in OpenCV\n",
    "===\n",
    "\n",
    "## Reading an Image\n",
    "\n",
    "We use the function `cv2.imread()` to read an image."
   ]
  },
  {
   "cell_type": "code",
   "execution_count": 1,
   "metadata": {},
   "outputs": [],
   "source": [
    "import cv2\n",
    "import numpy as np"
   ]
  },
  {
   "cell_type": "code",
   "execution_count": 2,
   "metadata": {},
   "outputs": [],
   "source": [
    "# first argument is the image to load\n",
    "# second argument is the color of the image\n",
    "    # cv2.IMREAD_COLOR loads a color image\n",
    "    # cv2.IMREAD_GRAYSCALE loads image in grayscale\n",
    "image = cv2.imread('../assets/bernie.jpg', cv2.IMREAD_COLOR)"
   ]
  },
  {
   "cell_type": "markdown",
   "metadata": {},
   "source": [
    "## Displaying an Image\n",
    "\n",
    "We use the function `cv2.imshow()` to display an image."
   ]
  },
  {
   "cell_type": "code",
   "execution_count": 3,
   "metadata": {},
   "outputs": [],
   "source": [
    "cv2.imshow('image', image)\n",
    "cv2.waitKey(0)\n",
    "cv2.destroyAllWindows()"
   ]
  },
  {
   "cell_type": "markdown",
   "metadata": {},
   "source": [
    "`cv2.waitKey()` is a keyboard binding function, which means it waits for a specified amount of time (in milliseconds) for any keyboard event. If any key was pressed within the time, the program continues. If `0` is passed, it waits indefinitely.\n",
    "\n",
    "`cv2.destroyAllWindows()` destroys all windows created. To destroy a specific window, use `cv2.destroyWindow()` with the window name passed as an argument."
   ]
  },
  {
   "cell_type": "code",
   "execution_count": 4,
   "metadata": {},
   "outputs": [],
   "source": [
    "cv2.namedWindow('image', cv2.WINDOW_NORMAL)\n",
    "cv2.imshow('image', image)\n",
    "cv2.waitKey(0)\n",
    "cv2.destroyWindow('image')"
   ]
  },
  {
   "cell_type": "markdown",
   "metadata": {},
   "source": [
    "`cv2.namedWindow()` creates a window where an image may be loaded. The window may be specified to be resizable or not. The default flag is `cv2.WINDOW_AUTOSIZE`. Meanwhile, if you specify the flag as `cv2.WINDOW_NORMAL`, the window may be resizable."
   ]
  },
  {
   "cell_type": "markdown",
   "metadata": {},
   "source": [
    "## Writing an Image\n",
    "\n",
    "We use the function `cv2.imwrite()` to save an image.\n",
    "\n",
    "First argument is the file name, while the second is the image to be saved."
   ]
  },
  {
   "cell_type": "code",
   "execution_count": 5,
   "metadata": {},
   "outputs": [
    {
     "data": {
      "text/plain": [
       "True"
      ]
     },
     "execution_count": 5,
     "metadata": {},
     "output_type": "execute_result"
    }
   ],
   "source": [
    "image = cv2.imread('../assets/bernie.jpg', cv2.IMREAD_GRAYSCALE)\n",
    "cv2.imwrite('bernie_grayscale.jpg', image)"
   ]
  },
  {
   "cell_type": "markdown",
   "metadata": {},
   "source": [
    "## Summary\n",
    "\n",
    "Let us load our image in grayscale, display it, then save it."
   ]
  },
  {
   "cell_type": "code",
   "execution_count": 6,
   "metadata": {},
   "outputs": [],
   "source": [
    "image = cv2.imread('../assets/bernie.jpg', cv2.IMREAD_GRAYSCALE)\n",
    "cv2.imshow('image', image)\n",
    "\n",
    "k = cv2.waitKey(0)\n",
    "\n",
    "if k == 27:    # wait for ESC to exit\n",
    "    cv2.destroyAllWindows()\n",
    "elif k == ord('s'):    # wait for 's' key to save and exit\n",
    "    cv2.imwrite('bernie_grayscale.jpg', image)\n",
    "    cv2.destroyAllWindows()"
   ]
  },
  {
   "cell_type": "markdown",
   "metadata": {},
   "source": [
    "## Video in OpenCV\n",
    "\n",
    "### Capture Video from Camera\n",
    "\n",
    "To capture a video, we need to create a `cv2.VideoCapture` object. The argument for this may be the device index or the name of a video file."
   ]
  },
  {
   "cell_type": "code",
   "execution_count": 7,
   "metadata": {},
   "outputs": [],
   "source": [
    "import cv2\n",
    "import numpy as np\n",
    "\n",
    "cap = cv2.VideoCapture(0)\n",
    "\n",
    "while True:\n",
    "    \n",
    "    _, frame = cap.read()\n",
    "    \n",
    "    cv2.imshow('webcam', frame)\n",
    "    \n",
    "    if cv2.waitKey(1) == 27:\n",
    "        break\n",
    "        \n",
    "cap.release()\n",
    "cv2.destroyAllWindows()"
   ]
  }
 ],
 "metadata": {
  "kernelspec": {
   "display_name": "Python 3",
   "language": "python",
   "name": "python3"
  },
  "language_info": {
   "codemirror_mode": {
    "name": "ipython",
    "version": 3
   },
   "file_extension": ".py",
   "mimetype": "text/x-python",
   "name": "python",
   "nbconvert_exporter": "python",
   "pygments_lexer": "ipython3",
   "version": "3.6.5"
  }
 },
 "nbformat": 4,
 "nbformat_minor": 2
}
