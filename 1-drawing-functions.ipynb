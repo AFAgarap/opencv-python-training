{
 "cells": [
  {
   "cell_type": "markdown",
   "metadata": {},
   "source": [
    "Drawing Functions in OpenCV\n",
    "===\n",
    "\n",
    "In which we learn to draw geometric shapes with OpenCV. We shalle learn to do so through the following functions: `cv2.line()`, `cv2.circle()`, `cv2.rectangle()`, `cv2.ellipse()`, `cv2.putText()`, etc."
   ]
  },
  {
   "cell_type": "markdown",
   "metadata": {},
   "source": [
    "## Drawing a Line\n",
    "\n",
    "To draw a line, we shall pass a starting and an ending coordinates of the line. We shall create an image, and draw a blue line on it from top-left to bottom-right corners."
   ]
  },
  {
   "cell_type": "code",
   "execution_count": 1,
   "metadata": {},
   "outputs": [],
   "source": [
    "import numpy as np\n",
    "import cv2\n",
    "\n",
    "# create a black image\n",
    "image = np.zeros((512, 512, 3), np.uint8)\n",
    "\n",
    "\n",
    "# draw a diagonal blue line with thickness of 5px\n",
    "image = cv2.line(image, (0, 0), (511, 511), (255, 0, 0), 5)"
   ]
  },
  {
   "cell_type": "code",
   "execution_count": 2,
   "metadata": {},
   "outputs": [],
   "source": [
    "cv2.imshow('image', image)\n",
    "cv2.waitKey(0)\n",
    "cv2.destroyAllWindows()"
   ]
  },
  {
   "cell_type": "markdown",
   "metadata": {},
   "source": [
    "## Drawing a Rectangle\n",
    "\n",
    "To draw a rectangle, we need top-left corner and bottom-right of rectangle. We shall draw a green rectangle at the top-right corner of our previous image."
   ]
  },
  {
   "cell_type": "code",
   "execution_count": 3,
   "metadata": {},
   "outputs": [],
   "source": [
    "image = cv2.rectangle(image, (384, 0), (510, 128), (0, 255, 0), 3)"
   ]
  },
  {
   "cell_type": "code",
   "execution_count": 4,
   "metadata": {},
   "outputs": [],
   "source": [
    "cv2.imshow('image', image)\n",
    "cv2.waitKey(0)\n",
    "cv2.destroyAllWindows()"
   ]
  },
  {
   "cell_type": "markdown",
   "metadata": {},
   "source": [
    "## Drawing a Circle\n",
    "\n",
    "To draw a circle, we need its center coordinates and its radius. We shall draw a circle inside the rectangle drawn above."
   ]
  },
  {
   "cell_type": "code",
   "execution_count": 5,
   "metadata": {},
   "outputs": [],
   "source": [
    "image = cv2.circle(image, (447, 63), 63, (0, 0, 255), -1)"
   ]
  },
  {
   "cell_type": "code",
   "execution_count": 6,
   "metadata": {},
   "outputs": [],
   "source": [
    "cv2.imshow('image', image)\n",
    "cv2.waitKey(0)\n",
    "cv2.destroyAllWindows()"
   ]
  },
  {
   "cell_type": "markdown",
   "metadata": {},
   "source": [
    "## Drawing an Ellipse\n",
    "\n",
    "To draw an ellipse, we need to pass several arguments.\n",
    "\n",
    "1. Center location (x, y)\n",
    "2. Axes lengths (major axis length, minor axis length)\n",
    "3. Angle of rotation of the ellipse in anti-clockwise direction, `angle`.\n",
    "4. `startAngle` and `endAngle` which denote the starting and ending of ellipse arc measured in clockwise direction from major axis, i.e. giving values 0 and 360 shall give a full ellipse.\n",
    "\n",
    "For our example, we shall draw a half ellipse at the center of the image."
   ]
  },
  {
   "cell_type": "code",
   "execution_count": 7,
   "metadata": {},
   "outputs": [],
   "source": [
    "image = cv2.ellipse(image, (256, 256), (100, 50), 0, 0, 180, 255, -1)"
   ]
  },
  {
   "cell_type": "code",
   "execution_count": 8,
   "metadata": {},
   "outputs": [],
   "source": [
    "cv2.imshow('image', image)\n",
    "cv2.waitKey(0)\n",
    "cv2.destroyAllWindows()"
   ]
  },
  {
   "cell_type": "markdown",
   "metadata": {},
   "source": [
    "## Drawing a Polygon\n",
    "\n",
    "To draw a polygon, we need the coordinates of the vertices. We make those points into an array of shape `ROWSx1x2` where `ROWS` are number of vertices, and it should be of type `int32`. For our example, we draw a small polygon with four vertices in yellow color."
   ]
  },
  {
   "cell_type": "code",
   "execution_count": 9,
   "metadata": {},
   "outputs": [],
   "source": [
    "pts = np.array([[10, 5], [20, 30], [70, 20], [50, 10]], np.int32)\n",
    "pts = pts.reshape((-1, 1, 2))\n",
    "image = cv2.polylines(image, [pts], True, (0, 255, 255))"
   ]
  },
  {
   "cell_type": "code",
   "execution_count": 10,
   "metadata": {},
   "outputs": [],
   "source": [
    "cv2.imshow('image', image)\n",
    "cv2.waitKey(0)\n",
    "cv2.destroyAllWindows()"
   ]
  }
 ],
 "metadata": {
  "kernelspec": {
   "display_name": "Python 3",
   "language": "python",
   "name": "python3"
  },
  "language_info": {
   "codemirror_mode": {
    "name": "ipython",
    "version": 3
   },
   "file_extension": ".py",
   "mimetype": "text/x-python",
   "name": "python",
   "nbconvert_exporter": "python",
   "pygments_lexer": "ipython3",
   "version": "3.6.2"
  }
 },
 "nbformat": 4,
 "nbformat_minor": 2
}
